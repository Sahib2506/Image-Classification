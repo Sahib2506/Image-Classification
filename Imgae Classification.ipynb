{
 "cells": [
  {
   "cell_type": "code",
   "execution_count": 1,
   "metadata": {
    "executionInfo": {
     "elapsed": 30,
     "status": "ok",
     "timestamp": 1638290299838,
     "user": {
      "displayName": "Sahib",
      "photoUrl": "https://lh3.googleusercontent.com/a-/AOh14GiIUuVFhterS_o4A___sB563Lk_bQSxBv9fSjXBwA=s64",
      "userId": "11780867365883881421"
     },
     "user_tz": -330
    },
    "id": "jLbc69JPbN5Z"
   },
   "outputs": [],
   "source": [
    "import warnings\n",
    "warnings.filterwarnings(\"ignore\")\n",
    "\n",
    "import os\n",
    "import shutil\n",
    "import glob"
   ]
  },
  {
   "cell_type": "code",
   "execution_count": 5,
   "metadata": {
    "colab": {
     "base_uri": "https://localhost:8080/"
    },
    "executionInfo": {
     "elapsed": 37832,
     "status": "ok",
     "timestamp": 1638289033146,
     "user": {
      "displayName": "Sahib",
      "photoUrl": "https://lh3.googleusercontent.com/a-/AOh14GiIUuVFhterS_o4A___sB563Lk_bQSxBv9fSjXBwA=s64",
      "userId": "11780867365883881421"
     },
     "user_tz": -330
    },
    "id": "h-nl3SYpbhJ_",
    "outputId": "706bdfa0-89d2-4544-d5df-f692aaf64f74"
   },
   "outputs": [
    {
     "ename": "ModuleNotFoundError",
     "evalue": "No module named 'google'",
     "output_type": "error",
     "traceback": [
      "\u001b[1;31m---------------------------------------------------------------------------\u001b[0m",
      "\u001b[1;31mModuleNotFoundError\u001b[0m                       Traceback (most recent call last)",
      "\u001b[1;32m<ipython-input-5-d5df0069828e>\u001b[0m in \u001b[0;36m<module>\u001b[1;34m\u001b[0m\n\u001b[1;32m----> 1\u001b[1;33m \u001b[1;32mfrom\u001b[0m \u001b[0mgoogle\u001b[0m\u001b[1;33m.\u001b[0m\u001b[0mcolab\u001b[0m \u001b[1;32mimport\u001b[0m \u001b[0mdrive\u001b[0m\u001b[1;33m\u001b[0m\u001b[1;33m\u001b[0m\u001b[0m\n\u001b[0m\u001b[0;32m      2\u001b[0m \u001b[0mdrive\u001b[0m\u001b[1;33m.\u001b[0m\u001b[0mmount\u001b[0m\u001b[1;33m(\u001b[0m\u001b[1;34m'/content/drive'\u001b[0m\u001b[1;33m)\u001b[0m\u001b[1;33m\u001b[0m\u001b[1;33m\u001b[0m\u001b[0m\n",
      "\u001b[1;31mModuleNotFoundError\u001b[0m: No module named 'google'"
     ]
    }
   ],
   "source": [
    "from google.colab import drive\n",
    "drive.mount('/content/drive')"
   ]
  },
  {
   "cell_type": "code",
   "execution_count": 3,
   "metadata": {
    "executionInfo": {
     "elapsed": 3485,
     "status": "ok",
     "timestamp": 1638289087388,
     "user": {
      "displayName": "Sahib",
      "photoUrl": "https://lh3.googleusercontent.com/a-/AOh14GiIUuVFhterS_o4A___sB563Lk_bQSxBv9fSjXBwA=s64",
      "userId": "11780867365883881421"
     },
     "user_tz": -330
    },
    "id": "1fHmepwaghBN"
   },
   "outputs": [],
   "source": [
    "import os\n",
    "import cv2\n",
    "from PIL import Image\n",
    "import tensorflow as tf\n",
    "from keras import backend as K\n",
    "from keras.models import load_model\n",
    "from keras.preprocessing.image import img_to_array\n",
    "from tensorflow.keras.optimizers import Adam, RMSprop\n",
    "from tensorflow.keras.callbacks import ReduceLROnPlateau\n",
    "from tensorflow.keras.preprocessing.image import ImageDataGenerator"
   ]
  },
  {
   "cell_type": "code",
   "execution_count": 6,
   "metadata": {
    "executionInfo": {
     "elapsed": 384,
     "status": "ok",
     "timestamp": 1638289383371,
     "user": {
      "displayName": "Sahib",
      "photoUrl": "https://lh3.googleusercontent.com/a-/AOh14GiIUuVFhterS_o4A___sB563Lk_bQSxBv9fSjXBwA=s64",
      "userId": "11780867365883881421"
     },
     "user_tz": -330
    },
    "id": "qpbRx5Po6iXG"
   },
   "outputs": [],
   "source": [
    "base_dir = '/content/drive/MyDrive/Image Classification/Images'\n",
    "train_dir = '/content/drive/MyDrive/Image Classification/Images/Train'\n",
    "train_saree = '/content/drive/MyDrive/Image Classification/Images/Train/Saree Train'\n",
    "train_jeans = '/content/drive/MyDrive/Image Classification/Images/Train/Jeans Train'\n",
    "train_trousers = '/content/drive/MyDrive/Image Classification/Images/Train/Trouser Train'\n",
    "test_dir = '/content/drive/MyDrive/Image Classification/Images/Test'\n",
    "test_saree_dir = '/content/drive/MyDrive/Image Classification/Images/Test/Saree Test'\n",
    "test_jeans_dir = '/content/drive/MyDrive/Image Classification/Images/Test/Jeans Test'\n",
    "test_trousers_dir = '/content/drive/MyDrive/Image Classification/Images/Test/Trouser Test'\n",
    "Validation_dir = '/content/drive/MyDrive/Image Classification/Images/Validation'\n",
    "valid_saree_dir = '/content/drive/MyDrive/Image Classification/Images/Validation/Saree Validation'\n",
    "valid_jeans_dir = '/content/drive/MyDrive/Image Classification/Images/Validation/Jeans Validation'\n",
    "valid_trousers_dir = '/content/drive/MyDrive/Image Classification/Images/Validation/Trouser Validation'"
   ]
  },
  {
   "cell_type": "code",
   "execution_count": 7,
   "metadata": {
    "executionInfo": {
     "elapsed": 5270,
     "status": "ok",
     "timestamp": 1638289408152,
     "user": {
      "displayName": "Sahib",
      "photoUrl": "https://lh3.googleusercontent.com/a-/AOh14GiIUuVFhterS_o4A___sB563Lk_bQSxBv9fSjXBwA=s64",
      "userId": "11780867365883881421"
     },
     "user_tz": -330
    },
    "id": "Xl28x0mQ_fff"
   },
   "outputs": [],
   "source": [
    "saree_train = len(os.listdir(train_saree))\n",
    "jeans_train = len(os.listdir(train_jeans))\n",
    "trousers_train = len(os.listdir(train_trousers))\n",
    "saree_test = len(os.listdir(test_saree_dir))\n",
    "jeans_test = len(os.listdir(test_jeans_dir))\n",
    "trousers_test = len(os.listdir(test_trousers_dir))\n",
    "saree_valid = len(os.listdir(valid_saree_dir))\n",
    "jeans_valid = len(os.listdir(valid_jeans_dir))\n",
    "trousers_valid = len(os.listdir(valid_trousers_dir))"
   ]
  },
  {
   "cell_type": "code",
   "execution_count": 8,
   "metadata": {
    "executionInfo": {
     "elapsed": 401,
     "status": "ok",
     "timestamp": 1638289420874,
     "user": {
      "displayName": "Sahib",
      "photoUrl": "https://lh3.googleusercontent.com/a-/AOh14GiIUuVFhterS_o4A___sB563Lk_bQSxBv9fSjXBwA=s64",
      "userId": "11780867365883881421"
     },
     "user_tz": -330
    },
    "id": "ZU4yoZuhH-en"
   },
   "outputs": [],
   "source": [
    "total_train = saree_train+jeans_train+trousers_train\n",
    "total_validation = saree_valid+jeans_valid+trousers_valid\n",
    "total_test = saree_test+jeans_test+trousers_test"
   ]
  },
  {
   "cell_type": "code",
   "execution_count": 9,
   "metadata": {
    "executionInfo": {
     "elapsed": 696,
     "status": "ok",
     "timestamp": 1638289447380,
     "user": {
      "displayName": "Sahib",
      "photoUrl": "https://lh3.googleusercontent.com/a-/AOh14GiIUuVFhterS_o4A___sB563Lk_bQSxBv9fSjXBwA=s64",
      "userId": "11780867365883881421"
     },
     "user_tz": -330
    },
    "id": "GHomZ8eoBmJW"
   },
   "outputs": [],
   "source": [
    "IMG_SHAPE  = 224\n",
    "batch_size = 32"
   ]
  },
  {
   "cell_type": "code",
   "execution_count": 10,
   "metadata": {
    "colab": {
     "base_uri": "https://localhost:8080/"
    },
    "executionInfo": {
     "elapsed": 402,
     "status": "ok",
     "timestamp": 1638289597390,
     "user": {
      "displayName": "Sahib",
      "photoUrl": "https://lh3.googleusercontent.com/a-/AOh14GiIUuVFhterS_o4A___sB563Lk_bQSxBv9fSjXBwA=s64",
      "userId": "11780867365883881421"
     },
     "user_tz": -330
    },
    "id": "MQ-WzcabCGXi",
    "outputId": "770f5512-70db-474b-8b56-ef32ebde0ad9"
   },
   "outputs": [
    {
     "name": "stdout",
     "output_type": "stream",
     "text": [
      "Found 491 images belonging to 3 classes.\n",
      "Found 115 images belonging to 3 classes.\n",
      "Found 114 images belonging to 3 classes.\n"
     ]
    }
   ],
   "source": [
    "image_gen_train = ImageDataGenerator(rescale = 1./255)\n",
    "train_data_gen = image_gen_train.flow_from_directory(batch_size = batch_size,\n",
    "directory = train_dir,\n",
    "shuffle= True,\n",
    "target_size = (IMG_SHAPE,IMG_SHAPE),\n",
    "class_mode = 'categorical')\n",
    "image_generator_validation = ImageDataGenerator(rescale=1./255)\n",
    "val_data_gen = image_generator_validation.flow_from_directory(batch_size=batch_size,\n",
    "directory=test_dir,\n",
    "target_size=(IMG_SHAPE, IMG_SHAPE),\n",
    "class_mode='categorical')\n",
    "image_gen_test = ImageDataGenerator(rescale=1./255)\n",
    "test_data_gen = image_gen_test.flow_from_directory(batch_size=batch_size,\n",
    "directory=Validation_dir,\n",
    "target_size=(IMG_SHAPE, IMG_SHAPE),\n",
    "class_mode='categorical')"
   ]
  },
  {
   "cell_type": "code",
   "execution_count": 11,
   "metadata": {
    "colab": {
     "base_uri": "https://localhost:8080/"
    },
    "executionInfo": {
     "elapsed": 1585,
     "status": "ok",
     "timestamp": 1638289649384,
     "user": {
      "displayName": "Sahib",
      "photoUrl": "https://lh3.googleusercontent.com/a-/AOh14GiIUuVFhterS_o4A___sB563Lk_bQSxBv9fSjXBwA=s64",
      "userId": "11780867365883881421"
     },
     "user_tz": -330
    },
    "id": "pxyEcPVBEMI0",
    "outputId": "05345ba6-a6b7-4c34-9042-bd14000bf35f"
   },
   "outputs": [
    {
     "name": "stdout",
     "output_type": "stream",
     "text": [
      "Downloading data from https://storage.googleapis.com/tensorflow/keras-applications/vgg16/vgg16_weights_tf_dim_ordering_tf_kernels_notop.h5\n",
      "58892288/58889256 [==============================] - 1s 0us/step\n",
      "58900480/58889256 [==============================] - 1s 0us/step\n"
     ]
    }
   ],
   "source": [
    "pre_trained_model = tf.keras.applications.VGG16(input_shape=(224,224, 3), include_top=False, weights=\"imagenet\")"
   ]
  },
  {
   "cell_type": "code",
   "execution_count": 12,
   "metadata": {
    "colab": {
     "base_uri": "https://localhost:8080/"
    },
    "executionInfo": {
     "elapsed": 383,
     "status": "ok",
     "timestamp": 1638289654619,
     "user": {
      "displayName": "Sahib",
      "photoUrl": "https://lh3.googleusercontent.com/a-/AOh14GiIUuVFhterS_o4A___sB563Lk_bQSxBv9fSjXBwA=s64",
      "userId": "11780867365883881421"
     },
     "user_tz": -330
    },
    "id": "58mDLbLVEs83",
    "outputId": "85ed903f-8a94-41cf-ffc0-55a831357538"
   },
   "outputs": [
    {
     "name": "stdout",
     "output_type": "stream",
     "text": [
      "input_1\n",
      "block1_conv1\n",
      "block1_conv2\n",
      "block1_pool\n",
      "block2_conv1\n",
      "block2_conv2\n",
      "block2_pool\n",
      "block3_conv1\n",
      "block3_conv2\n",
      "block3_conv3\n",
      "block3_pool\n",
      "block4_conv1\n",
      "block4_conv2\n",
      "block4_conv3\n",
      "block4_pool\n",
      "block5_conv1\n",
      "block5_conv2\n",
      "block5_conv3\n",
      "block5_pool\n"
     ]
    }
   ],
   "source": [
    "for layer in pre_trained_model.layers:\n",
    "  print(layer.name)\n",
    "layer.trainable = False"
   ]
  },
  {
   "cell_type": "code",
   "execution_count": 13,
   "metadata": {
    "executionInfo": {
     "elapsed": 436,
     "status": "ok",
     "timestamp": 1638289684780,
     "user": {
      "displayName": "Sahib",
      "photoUrl": "https://lh3.googleusercontent.com/a-/AOh14GiIUuVFhterS_o4A___sB563Lk_bQSxBv9fSjXBwA=s64",
      "userId": "11780867365883881421"
     },
     "user_tz": -330
    },
    "id": "Zx0gYDekFqh_"
   },
   "outputs": [],
   "source": [
    "last_layer = pre_trained_model.get_layer('block5_pool')\n",
    "last_output = last_layer.output\n",
    "x = tf.keras.layers.GlobalMaxPooling2D()(last_output)\n",
    "x = tf.keras.layers.Dense(512, activation='relu')(x)\n",
    "x = tf.keras.layers.Dropout(0.5)(x)\n",
    "x = tf.keras.layers.Dense(3, activation='softmax')(x)"
   ]
  },
  {
   "cell_type": "code",
   "execution_count": 14,
   "metadata": {
    "executionInfo": {
     "elapsed": 10,
     "status": "ok",
     "timestamp": 1638289688097,
     "user": {
      "displayName": "Sahib",
      "photoUrl": "https://lh3.googleusercontent.com/a-/AOh14GiIUuVFhterS_o4A___sB563Lk_bQSxBv9fSjXBwA=s64",
      "userId": "11780867365883881421"
     },
     "user_tz": -330
    },
    "id": "zdJfRalnF1nc"
   },
   "outputs": [],
   "source": [
    "model = tf.keras.Model(pre_trained_model.input, x)"
   ]
  },
  {
   "cell_type": "code",
   "execution_count": 15,
   "metadata": {
    "executionInfo": {
     "elapsed": 521,
     "status": "ok",
     "timestamp": 1638289711071,
     "user": {
      "displayName": "Sahib",
      "photoUrl": "https://lh3.googleusercontent.com/a-/AOh14GiIUuVFhterS_o4A___sB563Lk_bQSxBv9fSjXBwA=s64",
      "userId": "11780867365883881421"
     },
     "user_tz": -330
    },
    "id": "E4CekRVOGMGw"
   },
   "outputs": [],
   "source": [
    "model.compile(optimizer='adam', loss=tf.keras.losses.categorical_crossentropy, metrics=['acc'])\n"
   ]
  },
  {
   "cell_type": "code",
   "execution_count": 18,
   "metadata": {
    "colab": {
     "base_uri": "https://localhost:8080/"
    },
    "executionInfo": {
     "elapsed": 4501401,
     "status": "ok",
     "timestamp": 1638294832270,
     "user": {
      "displayName": "Sahib",
      "photoUrl": "https://lh3.googleusercontent.com/a-/AOh14GiIUuVFhterS_o4A___sB563Lk_bQSxBv9fSjXBwA=s64",
      "userId": "11780867365883881421"
     },
     "user_tz": -330
    },
    "id": "yXeT06WAGRHJ",
    "outputId": "e9520327-da4c-4275-a5f1-d253c336df0c"
   },
   "outputs": [
    {
     "name": "stdout",
     "output_type": "stream",
     "text": [
      "Epoch 1/5\n",
      "15/15 - 892s - loss: 1.1471 - acc: 0.4031 - val_loss: 1.0406 - val_acc: 0.2812 - 892s/epoch - 59s/step\n",
      "Epoch 2/5\n",
      "15/15 - 882s - loss: 0.9825 - acc: 0.4619 - val_loss: 0.8958 - val_acc: 0.5625 - 882s/epoch - 59s/step\n",
      "Epoch 3/5\n",
      "15/15 - 882s - loss: 0.7377 - acc: 0.6231 - val_loss: 0.9828 - val_acc: 0.4896 - 882s/epoch - 59s/step\n",
      "Epoch 4/5\n",
      "15/15 - 903s - loss: 0.7401 - acc: 0.5991 - val_loss: 0.7613 - val_acc: 0.5729 - 903s/epoch - 60s/step\n",
      "Epoch 5/5\n",
      "15/15 - 882s - loss: 0.6512 - acc: 0.6558 - val_loss: 0.6114 - val_acc: 0.6458 - 882s/epoch - 59s/step\n"
     ]
    }
   ],
   "source": [
    "vgg_classifier = model.fit(train_data_gen,\n",
    "steps_per_epoch=(total_train//batch_size),\n",
    "epochs = 5,\n",
    "validation_data=val_data_gen,\n",
    "validation_steps=(total_validation//batch_size),\n",
    "batch_size = batch_size,\n",
    "verbose = 2)"
   ]
  },
  {
   "cell_type": "code",
   "execution_count": 19,
   "metadata": {
    "colab": {
     "base_uri": "https://localhost:8080/"
    },
    "executionInfo": {
     "elapsed": 63872,
     "status": "ok",
     "timestamp": 1638294983010,
     "user": {
      "displayName": "Sahib",
      "photoUrl": "https://lh3.googleusercontent.com/a-/AOh14GiIUuVFhterS_o4A___sB563Lk_bQSxBv9fSjXBwA=s64",
      "userId": "11780867365883881421"
     },
     "user_tz": -330
    },
    "id": "B6oM4nelGXF3",
    "outputId": "43cf0839-b573-44b6-c6c5-1431f8dc8415"
   },
   "outputs": [
    {
     "name": "stdout",
     "output_type": "stream",
     "text": [
      "4/4 [==============================] - 56s 13s/step - loss: 0.5917 - acc: 0.7281\n",
      "test_loss, test accuracy [0.5916635394096375, 0.7280701994895935]\n"
     ]
    }
   ],
   "source": [
    "result = model.evaluate(test_data_gen,batch_size=batch_size)\n",
    "print(\"test_loss, test accuracy\",result)"
   ]
  },
  {
   "cell_type": "code",
   "execution_count": null,
   "metadata": {
    "id": "z9x8HVcB_JVd"
   },
   "outputs": [],
   "source": []
  }
 ],
 "metadata": {
  "colab": {
   "authorship_tag": "ABX9TyN6N4st43GM5MlwZb88ehXA",
   "collapsed_sections": [],
   "name": "Imgae Classification.ipynb",
   "provenance": []
  },
  "kernelspec": {
   "display_name": "Python 3",
   "language": "python",
   "name": "python3"
  },
  "language_info": {
   "codemirror_mode": {
    "name": "ipython",
    "version": 3
   },
   "file_extension": ".py",
   "mimetype": "text/x-python",
   "name": "python",
   "nbconvert_exporter": "python",
   "pygments_lexer": "ipython3",
   "version": "3.8.8"
  }
 },
 "nbformat": 4,
 "nbformat_minor": 1
}
